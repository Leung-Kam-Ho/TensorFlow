{
  "cells": [
    {
      "cell_type": "code",
      "execution_count": 126,
      "metadata": {
        "id": "eOi_dJ4m5y66"
      },
      "outputs": [],
      "source": [
        "import tensorflow as tf\n",
        "from tensorflow import keras\n",
        "import tensorflow_datasets as tfds\n",
        "import numpy as np\n",
        "import matplotlib.pyplot as plt\n"
      ]
    },
    {
      "cell_type": "code",
      "execution_count": 127,
      "metadata": {
        "colab": {
          "base_uri": "https://localhost:8080/"
        },
        "id": "5mAcNZgV6AQM",
        "outputId": "0f5af8f8-7391-4859-8f03-5df235b42563"
      },
      "outputs": [
        {
          "name": "stdout",
          "output_type": "stream",
          "text": [
            "Number of datasetes:  1003\n"
          ]
        }
      ],
      "source": [
        "print(\"Number of datasetes: \", len(tfds.list_builders()))\n",
        "#tfds.list_builders()"
      ]
    },
    {
      "cell_type": "code",
      "execution_count": 128,
      "metadata": {
        "colab": {
          "base_uri": "https://localhost:8080/"
        },
        "id": "V-zFGomS6nB8",
        "outputId": "a739d56e-4bfc-4cfa-dfbc-d79ef884245b"
      },
      "outputs": [],
      "source": [
        "def load():\n",
        "    (x_train, y_train), (x_test, y_test) = tf.keras.datasets.cifar10.load_data()\n",
        "    y_train = tf.keras.utils.to_categorical(y_train, 10)\n",
        "    y_test = tf.keras.utils.to_categorical(y_test, 10)\n",
        "    print(\"x_train shape :\", x_train.shape)\n",
        "    print(\"x_test shape :\", x_test.shape)\n",
        "    print(\"y_train shape :\", y_train.shape)\n",
        "    print(\"y_test shape :\", y_test.shape)\n",
        "    #plt.imshow(x_train[11])\n",
        "    return x_train, y_train, x_test, y_test"
      ]
    },
    {
      "cell_type": "code",
      "execution_count": 129,
      "metadata": {
        "colab": {
          "base_uri": "https://localhost:8080/",
          "height": 283
        },
        "id": "pQielmi4NV3b",
        "outputId": "ca7d6db8-7c22-452d-b673-445004d347d9"
      },
      "outputs": [],
      "source": [
        "from tensorflow.keras.preprocessing.image import ImageDataGenerator\n",
        "\n",
        "def normalize(data):\n",
        "  data = data.astype(\"float32\")\n",
        "  data = data/255.0\n",
        "  return data\n",
        "\n",
        "#x_val = normalize(x_val)\n",
        "#datagen.fit(x_val)\n",
        "\n",
        "def Norm_Train_test(train, test):    \n",
        "  x_train = normalize(train)\n",
        "  x_test = normalize(test)\n",
        "  return x_train, x_test\n",
        "  \n",
        "#y_val = tf.keras.utils.to_categorical(y_val, 10)\n",
        "#plt.imshow(x_train[7])\n",
        "#plt.figure(figsize=(16,12))\n",
        "#for i in range(40):\n",
        "#  ax = plt.subplot(5,8,i+1)\n",
        "#  plt.imshow(x_train[i])\n",
        "#plt.figure(figsize=(16,12))\n",
        "#n = 0\n",
        "#for i in datagen.flow(x_train):\n",
        "#  if n+1 <= 40:\n",
        "#    ax = plt.subplot(5,8,n+1)\n",
        "#    plt.imshow(i[0])\n",
        "#    n+=1\n",
        "#  else:\n",
        "#    break\n",
        "\n",
        "\n",
        "  \n",
        "\n"
      ]
    },
    {
      "cell_type": "code",
      "execution_count": 130,
      "metadata": {
        "id": "YDbwcQIqNpZa"
      },
      "outputs": [],
      "source": [
        "def results(model, epoch = 5,b =32, show = False):\n",
        "    epoch = epoch\n",
        "    x_train, y_train, x_test, y_test = load()\n",
        "    x_train, x_test = Norm_Train_test(x_train, x_test)\n",
        "    datagen = ImageDataGenerator(\n",
        "        rotation_range = 15, \n",
        "        width_shift_range = 0.1, \n",
        "        height_shift_range = 0.1, \n",
        "        horizontal_flip=True, \n",
        "        validation_split = 0.2\n",
        "        )\n",
        "    r = model.fit(datagen.flow(x_train,y_train, batch_size = b, subset = \"training\"),validation_data = datagen.flow(x_train,y_train, batch_size = 8, subset = \"validation\"), epochs = epoch, verbose = 1)\n",
        "    acc = model.evaluate(x_test, y_test)\n",
        "    print(\"test set lose : \",acc[0])\n",
        "    print(\"test set accuracy : \", acc[1]*100  )\n",
        "    epoch_range = range(1, epoch+1)\n",
        "    if show:\n",
        "        # Plot training and validation accuracy\n",
        "        plt.plot(epoch_range, r.history['accuracy'])\n",
        "        plt.plot(epoch_range, r.history['val_accuracy'])\n",
        "        plt.title('Classification Accuracy')\n",
        "        plt.ylabel('Accuracy')\n",
        "        plt.xlabel('Epoch')\n",
        "        plt.legend(['Train', 'Val'], loc='lower right')\n",
        "        plt.show()\n",
        "        # Plot training & validation loss values\n",
        "        plt.plot(epoch_range,r.history['loss'])\n",
        "        plt.plot(epoch_range, r.history['val_loss'])\n",
        "        plt.title('Model loss')\n",
        "        plt.ylabel('Loss')\n",
        "        plt.xlabel('Epoch')\n",
        "        plt.legend(['Train', 'Val'], loc='lower right')\n",
        "        plt.show()"
      ]
    },
    {
      "cell_type": "code",
      "execution_count": 131,
      "metadata": {
        "id": "vNCZ8dOjQ_K6"
      },
      "outputs": [
        {
          "name": "stdout",
          "output_type": "stream",
          "text": [
            "100\n"
          ]
        }
      ],
      "source": [
        "from tensorflow.keras.preprocessing.image import load_img, img_to_array\n",
        "\n",
        "def unpickle(file):\n",
        "    import pickle\n",
        "    with open(file, 'rb') as fo:\n",
        "        dict = pickle.load(fo, encoding='bytes')\n",
        "    return dict\n",
        "f = unpickle(\"/Users/fx7707/.keras/datasets/cifar-100-python/meta\")\n",
        "c = f[b\"fine_label_names\"]\n",
        "classes = []\n",
        "for i in c:\n",
        "    classes.append(i.decode('UTF-8'))\n",
        "\n",
        "#print(classes)\n",
        "print(len(classes))\n",
        "classes  = ['airplane','automobile', 'bird', 'cat','deer','dog','frog', 'horse','ship','truck']\n",
        "def predict_class(filename, model):\n",
        "    img = load_img(filename, target_size = (32,32))\n",
        "    plt.show(img)\n",
        "    save = img\n",
        "    img = img_to_array(img)\n",
        "    img = img.reshape(1,32,32,3)\n",
        "    img = img.astype('float32')\n",
        "    img = img/255.0\n",
        "    result = model.predict(img)\n",
        "    dict2 = {}\n",
        "    for i in range(10):\n",
        "        dict2[result[0][i]] = classes[i]\n",
        "    res = result[0]\n",
        "    res.sort()\n",
        "    res = res[::-1]\n",
        "    results = res[:3]\n",
        "    print(\"Top predictions of these images are\")\n",
        "    for i in range(3):\n",
        "        print(\"{} : {}\".format(dict2[results[i]],\n",
        "            (results[i]*100).round(2)))\n",
        "    print('The image given as input is')\n",
        "    plt.imshow(save)\n",
        "    "
      ]
    },
    {
      "cell_type": "code",
      "execution_count": 132,
      "metadata": {},
      "outputs": [
        {
          "name": "stdout",
          "output_type": "stream",
          "text": [
            "Model: \"sequential_13\"\n",
            "_________________________________________________________________\n",
            " Layer (type)                Output Shape              Param #   \n",
            "=================================================================\n",
            " conv2d_70 (Conv2D)          (None, 32, 32, 32)        896       \n",
            "                                                                 \n",
            " batch_normalization_70 (Bat  (None, 32, 32, 32)       128       \n",
            " chNormalization)                                                \n",
            "                                                                 \n",
            " conv2d_71 (Conv2D)          (None, 32, 32, 32)        9248      \n",
            "                                                                 \n",
            " batch_normalization_71 (Bat  (None, 32, 32, 32)       128       \n",
            " chNormalization)                                                \n",
            "                                                                 \n",
            " max_pooling2d_35 (MaxPoolin  (None, 16, 16, 32)       0         \n",
            " g2D)                                                            \n",
            "                                                                 \n",
            " dropout_48 (Dropout)        (None, 16, 16, 32)        0         \n",
            "                                                                 \n",
            " conv2d_72 (Conv2D)          (None, 16, 16, 64)        18496     \n",
            "                                                                 \n",
            " batch_normalization_72 (Bat  (None, 16, 16, 64)       256       \n",
            " chNormalization)                                                \n",
            "                                                                 \n",
            " conv2d_73 (Conv2D)          (None, 16, 16, 64)        36928     \n",
            "                                                                 \n",
            " batch_normalization_73 (Bat  (None, 16, 16, 64)       256       \n",
            " chNormalization)                                                \n",
            "                                                                 \n",
            " max_pooling2d_36 (MaxPoolin  (None, 8, 8, 64)         0         \n",
            " g2D)                                                            \n",
            "                                                                 \n",
            " dropout_49 (Dropout)        (None, 8, 8, 64)          0         \n",
            "                                                                 \n",
            " conv2d_74 (Conv2D)          (None, 8, 8, 128)         73856     \n",
            "                                                                 \n",
            " batch_normalization_74 (Bat  (None, 8, 8, 128)        512       \n",
            " chNormalization)                                                \n",
            "                                                                 \n",
            " conv2d_75 (Conv2D)          (None, 8, 8, 128)         147584    \n",
            "                                                                 \n",
            " batch_normalization_75 (Bat  (None, 8, 8, 128)        512       \n",
            " chNormalization)                                                \n",
            "                                                                 \n",
            " max_pooling2d_37 (MaxPoolin  (None, 4, 4, 128)        0         \n",
            " g2D)                                                            \n",
            "                                                                 \n",
            " dropout_50 (Dropout)        (None, 4, 4, 128)         0         \n",
            "                                                                 \n",
            " flatten_13 (Flatten)        (None, 2048)              0         \n",
            "                                                                 \n",
            " dense_26 (Dense)            (None, 128)               262272    \n",
            "                                                                 \n",
            " dropout_51 (Dropout)        (None, 128)               0         \n",
            "                                                                 \n",
            " dense_27 (Dense)            (None, 10)                1290      \n",
            "                                                                 \n",
            "=================================================================\n",
            "Total params: 552,362\n",
            "Trainable params: 551,466\n",
            "Non-trainable params: 896\n",
            "_________________________________________________________________\n",
            "None\n",
            "x_train shape : (50000, 32, 32, 3)\n",
            "x_test shape : (10000, 32, 32, 3)\n",
            "y_train shape : (50000, 10)\n",
            "y_test shape : (10000, 10)\n",
            "Epoch 1/50\n"
          ]
        },
        {
          "name": "stderr",
          "output_type": "stream",
          "text": [
            "2022-02-03 02:13:12.785169: I tensorflow/core/grappler/optimizers/custom_graph_optimizer_registry.cc:112] Plugin optimizer for device_type GPU is enabled.\n"
          ]
        },
        {
          "name": "stdout",
          "output_type": "stream",
          "text": [
            "624/625 [============================>.] - ETA: 0s - loss: 2.0844 - accuracy: 0.2492"
          ]
        },
        {
          "name": "stderr",
          "output_type": "stream",
          "text": [
            "2022-02-03 02:13:34.158201: I tensorflow/core/grappler/optimizers/custom_graph_optimizer_registry.cc:112] Plugin optimizer for device_type GPU is enabled.\n"
          ]
        },
        {
          "name": "stdout",
          "output_type": "stream",
          "text": [
            "625/625 [==============================] - 31s 47ms/step - loss: 2.0841 - accuracy: 0.2492 - val_loss: 1.7359 - val_accuracy: 0.3652\n",
            "Epoch 2/50\n",
            "625/625 [==============================] - 28s 45ms/step - loss: 1.7084 - accuracy: 0.3624 - val_loss: 1.6043 - val_accuracy: 0.3960\n",
            "Epoch 3/50\n",
            "625/625 [==============================] - 29s 46ms/step - loss: 1.5696 - accuracy: 0.4166 - val_loss: 1.7307 - val_accuracy: 0.3827\n",
            "Epoch 4/50\n",
            "625/625 [==============================] - 28s 45ms/step - loss: 1.4733 - accuracy: 0.4586 - val_loss: 1.4125 - val_accuracy: 0.4811\n",
            "Epoch 5/50\n",
            "625/625 [==============================] - 28s 45ms/step - loss: 1.3920 - accuracy: 0.4895 - val_loss: 1.4262 - val_accuracy: 0.4780\n",
            "Epoch 6/50\n",
            "625/625 [==============================] - 29s 47ms/step - loss: 1.3265 - accuracy: 0.5157 - val_loss: 1.1861 - val_accuracy: 0.5692\n",
            "Epoch 7/50\n",
            "625/625 [==============================] - 29s 46ms/step - loss: 1.2688 - accuracy: 0.5402 - val_loss: 1.2514 - val_accuracy: 0.5387\n",
            "Epoch 8/50\n",
            "625/625 [==============================] - 29s 46ms/step - loss: 1.2269 - accuracy: 0.5551 - val_loss: 1.2248 - val_accuracy: 0.5578\n",
            "Epoch 9/50\n",
            "625/625 [==============================] - 29s 46ms/step - loss: 1.1831 - accuracy: 0.5737 - val_loss: 1.2498 - val_accuracy: 0.5358\n",
            "Epoch 10/50\n",
            "625/625 [==============================] - 29s 47ms/step - loss: 1.1481 - accuracy: 0.5827 - val_loss: 1.1584 - val_accuracy: 0.5810\n",
            "Epoch 11/50\n",
            "625/625 [==============================] - 29s 47ms/step - loss: 1.1188 - accuracy: 0.5956 - val_loss: 1.1373 - val_accuracy: 0.5926\n",
            "Epoch 12/50\n",
            "625/625 [==============================] - 29s 47ms/step - loss: 1.0834 - accuracy: 0.6107 - val_loss: 1.1521 - val_accuracy: 0.5868\n",
            "Epoch 13/50\n",
            "625/625 [==============================] - 30s 49ms/step - loss: 1.0621 - accuracy: 0.6185 - val_loss: 1.0027 - val_accuracy: 0.6365\n",
            "Epoch 14/50\n",
            "625/625 [==============================] - 28s 45ms/step - loss: 1.0288 - accuracy: 0.6310 - val_loss: 0.9915 - val_accuracy: 0.6439\n",
            "Epoch 15/50\n",
            "625/625 [==============================] - 48s 77ms/step - loss: 1.0139 - accuracy: 0.6354 - val_loss: 0.9471 - val_accuracy: 0.6576\n",
            "Epoch 16/50\n",
            "625/625 [==============================] - 330s 529ms/step - loss: 0.9869 - accuracy: 0.6453 - val_loss: 0.9293 - val_accuracy: 0.6645\n",
            "Epoch 17/50\n",
            "625/625 [==============================] - 28s 44ms/step - loss: 0.9686 - accuracy: 0.6554 - val_loss: 0.9562 - val_accuracy: 0.6602\n",
            "Epoch 18/50\n",
            "625/625 [==============================] - 326s 523ms/step - loss: 0.9509 - accuracy: 0.6591 - val_loss: 1.0584 - val_accuracy: 0.6238\n",
            "Epoch 19/50\n",
            "625/625 [==============================] - 27s 43ms/step - loss: 0.9279 - accuracy: 0.6705 - val_loss: 0.9049 - val_accuracy: 0.6710\n",
            "Epoch 20/50\n",
            "625/625 [==============================] - 988s 2s/step - loss: 0.9143 - accuracy: 0.6769 - val_loss: 0.9274 - val_accuracy: 0.6681\n",
            "Epoch 21/50\n",
            "625/625 [==============================] - 27s 43ms/step - loss: 0.9012 - accuracy: 0.6810 - val_loss: 0.8894 - val_accuracy: 0.6862\n",
            "Epoch 22/50\n",
            "625/625 [==============================] - 27s 43ms/step - loss: 0.8831 - accuracy: 0.6880 - val_loss: 0.8201 - val_accuracy: 0.7065\n",
            "Epoch 23/50\n",
            "625/625 [==============================] - 27s 44ms/step - loss: 0.8752 - accuracy: 0.6906 - val_loss: 0.8320 - val_accuracy: 0.7048\n",
            "Epoch 24/50\n",
            "625/625 [==============================] - 28s 44ms/step - loss: 0.8585 - accuracy: 0.6977 - val_loss: 0.7576 - val_accuracy: 0.7297\n",
            "Epoch 25/50\n",
            "625/625 [==============================] - 27s 43ms/step - loss: 0.8507 - accuracy: 0.6990 - val_loss: 0.7936 - val_accuracy: 0.7217\n",
            "Epoch 26/50\n",
            "625/625 [==============================] - 27s 44ms/step - loss: 0.8363 - accuracy: 0.7071 - val_loss: 0.7927 - val_accuracy: 0.7148\n",
            "Epoch 27/50\n",
            "625/625 [==============================] - 27s 43ms/step - loss: 0.8263 - accuracy: 0.7083 - val_loss: 0.7379 - val_accuracy: 0.7386\n",
            "Epoch 28/50\n",
            "625/625 [==============================] - 984s 2s/step - loss: 0.8084 - accuracy: 0.7143 - val_loss: 0.7575 - val_accuracy: 0.7313\n",
            "Epoch 29/50\n",
            "625/625 [==============================] - 30s 47ms/step - loss: 0.8020 - accuracy: 0.7200 - val_loss: 0.9569 - val_accuracy: 0.6735\n",
            "Epoch 30/50\n",
            "625/625 [==============================] - 27s 44ms/step - loss: 0.8002 - accuracy: 0.7198 - val_loss: 0.8227 - val_accuracy: 0.7086\n",
            "Epoch 31/50\n",
            "625/625 [==============================] - 28s 45ms/step - loss: 0.7905 - accuracy: 0.7219 - val_loss: 0.7063 - val_accuracy: 0.7531\n",
            "Epoch 32/50\n",
            "625/625 [==============================] - 28s 44ms/step - loss: 0.7831 - accuracy: 0.7255 - val_loss: 0.7137 - val_accuracy: 0.7475\n",
            "Epoch 33/50\n",
            "625/625 [==============================] - 28s 44ms/step - loss: 0.7774 - accuracy: 0.7267 - val_loss: 0.7418 - val_accuracy: 0.7416\n",
            "Epoch 34/50\n",
            "625/625 [==============================] - 27s 44ms/step - loss: 0.7617 - accuracy: 0.7326 - val_loss: 0.7238 - val_accuracy: 0.7432\n",
            "Epoch 35/50\n",
            "625/625 [==============================] - 27s 44ms/step - loss: 0.7594 - accuracy: 0.7343 - val_loss: 0.7183 - val_accuracy: 0.7458\n",
            "Epoch 36/50\n",
            "625/625 [==============================] - 27s 44ms/step - loss: 0.7498 - accuracy: 0.7382 - val_loss: 0.7679 - val_accuracy: 0.7288\n",
            "Epoch 37/50\n",
            "625/625 [==============================] - 27s 43ms/step - loss: 0.7429 - accuracy: 0.7382 - val_loss: 0.6710 - val_accuracy: 0.7658\n",
            "Epoch 38/50\n",
            "625/625 [==============================] - 27s 43ms/step - loss: 0.7280 - accuracy: 0.7448 - val_loss: 0.6866 - val_accuracy: 0.7587\n",
            "Epoch 39/50\n",
            "625/625 [==============================] - 27s 43ms/step - loss: 0.7230 - accuracy: 0.7464 - val_loss: 0.6715 - val_accuracy: 0.7664\n",
            "Epoch 40/50\n",
            "625/625 [==============================] - 27s 43ms/step - loss: 0.7170 - accuracy: 0.7474 - val_loss: 0.7329 - val_accuracy: 0.7398\n",
            "Epoch 41/50\n",
            "625/625 [==============================] - 27s 43ms/step - loss: 0.7130 - accuracy: 0.7530 - val_loss: 0.6729 - val_accuracy: 0.7604\n",
            "Epoch 42/50\n",
            "625/625 [==============================] - 27s 43ms/step - loss: 0.7107 - accuracy: 0.7498 - val_loss: 0.6577 - val_accuracy: 0.7672\n",
            "Epoch 43/50\n",
            "625/625 [==============================] - 27s 43ms/step - loss: 0.7022 - accuracy: 0.7546 - val_loss: 0.6867 - val_accuracy: 0.7637\n",
            "Epoch 44/50\n",
            "625/625 [==============================] - 27s 43ms/step - loss: 0.6971 - accuracy: 0.7586 - val_loss: 0.6412 - val_accuracy: 0.7767\n",
            "Epoch 45/50\n",
            "625/625 [==============================] - 27s 43ms/step - loss: 0.6863 - accuracy: 0.7598 - val_loss: 0.6645 - val_accuracy: 0.7688\n",
            "Epoch 46/50\n",
            "625/625 [==============================] - 27s 43ms/step - loss: 0.6833 - accuracy: 0.7628 - val_loss: 0.6104 - val_accuracy: 0.7885\n",
            "Epoch 47/50\n",
            "625/625 [==============================] - 27s 44ms/step - loss: 0.6748 - accuracy: 0.7644 - val_loss: 0.6315 - val_accuracy: 0.7790\n",
            "Epoch 48/50\n",
            "625/625 [==============================] - 27s 43ms/step - loss: 0.6759 - accuracy: 0.7650 - val_loss: 0.7199 - val_accuracy: 0.7504\n",
            "Epoch 49/50\n",
            "625/625 [==============================] - 28s 44ms/step - loss: 0.6721 - accuracy: 0.7646 - val_loss: 0.7867 - val_accuracy: 0.7324\n",
            "Epoch 50/50\n",
            "625/625 [==============================] - 27s 44ms/step - loss: 0.6603 - accuracy: 0.7722 - val_loss: 0.6153 - val_accuracy: 0.7875\n"
          ]
        },
        {
          "name": "stderr",
          "output_type": "stream",
          "text": [
            "2022-02-03 03:18:43.726256: I tensorflow/core/grappler/optimizers/custom_graph_optimizer_registry.cc:112] Plugin optimizer for device_type GPU is enabled.\n"
          ]
        },
        {
          "name": "stdout",
          "output_type": "stream",
          "text": [
            "313/313 [==============================] - 4s 11ms/step - loss: 0.6666 - accuracy: 0.7720\n",
            "test set lose :  0.6666156053543091\n",
            "test set accuracy :  77.20000147819519\n"
          ]
        },
        {
          "data": {
            "image/png": "[encoded data removed]",
            "text/plain": [
              "<Figure size 432x288 with 1 Axes>"
            ]
          },
          "metadata": {
            "needs_background": "light"
          },
          "output_type": "display_data"
        },
        {
          "data": {
            "image/png": "[encoded data removed]",
            "text/plain": [
              "<Figure size 432x288 with 1 Axes>"
            ]
          },
          "metadata": {
            "needs_background": "light"
          },
          "output_type": "display_data"
        }
      ],
      "source": [
        "from tensorflow.keras.models import Sequential \n",
        "from tensorflow.keras.layers import Dense, Dropout, Conv2D, MaxPooling2D, Flatten, BatchNormalization\n",
        "from tensorflow.keras.utils import plot_model\n",
        "weight_decay = 1e-6\n",
        "with tf.device(\"/GPU:0\"):\n",
        "    model_1 = Sequential()\n",
        "    model_1.add(Conv2D(32, (3, 3), activation = 'relu', padding = 'same',kernel_regularizer = tf.keras.regularizers.l2(weight_decay),input_shape = (32, 32, 3)))\n",
        "    model_1.add(BatchNormalization())\n",
        "    model_1.add(Conv2D(32, (3, 3), activation = 'relu', padding = 'same',kernel_regularizer = tf.keras.regularizers.l2(weight_decay)))\n",
        "    model_1.add(BatchNormalization())\n",
        "    model_1.add(MaxPooling2D((2, 2)))\n",
        "    model_1.add(Dropout(0.2))\n",
        "    model_1.add(Conv2D(64, (3, 3), activation = 'relu', padding = 'same',kernel_regularizer = tf.keras.regularizers.l2(weight_decay)))\n",
        "    model_1.add(BatchNormalization())\n",
        "    model_1.add(Conv2D(64, (3, 3), activation = 'relu', padding = 'same',kernel_regularizer = tf.keras.regularizers.l2(weight_decay)))\n",
        "    model_1.add(BatchNormalization())\n",
        "    model_1.add(MaxPooling2D((2, 2)))\n",
        "    model_1.add(Dropout(0.3))\n",
        "    model_1.add(Conv2D(128, (3, 3), activation = 'relu', padding = 'same',kernel_regularizer = tf.keras.regularizers.l2(weight_decay)))\n",
        "    model_1.add(BatchNormalization())\n",
        "    model_1.add(Conv2D(128, (3, 3), activation = 'relu', padding = 'same',kernel_regularizer = tf.keras.regularizers.l2(weight_decay)))\n",
        "    model_1.add(BatchNormalization())\n",
        "    model_1.add(MaxPooling2D((2, 2)))\n",
        "    model_1.add(Dropout(0.4))\n",
        "    model_1.add(Flatten())\n",
        "    model_1.add(Dense(128, activation = 'relu'))\n",
        "    model_1.add(Dropout(0.5))\n",
        "    model_1.add(Dense(10, activation = 'softmax'))\n",
        "    #plot_model(model_1, to_file=\"model1.png\")\n",
        "    print(model_1.summary())\n",
        "    b = 64\n",
        "    opt = tf.keras.optimizers.SGD(learning_rate=0.001, momentum=0.9) \n",
        "    model_1.compile(optimizer=opt, loss = 'categorical_crossentropy',metrics = ['accuracy'])\n",
        "    results(model_1,50,b,True)\n",
        "    \n"
      ]
    },
    {
      "cell_type": "code",
      "execution_count": 133,
      "metadata": {},
      "outputs": [
        {
          "name": "stderr",
          "output_type": "stream",
          "text": [
            "2022-02-03 03:18:48.209813: I tensorflow/core/grappler/optimizers/custom_graph_optimizer_registry.cc:112] Plugin optimizer for device_type GPU is enabled.\n"
          ]
        },
        {
          "name": "stdout",
          "output_type": "stream",
          "text": [
            "Top predictions of these images are\n",
            "airplane : 90.57\n",
            "deer : 4.96\n",
            "ship : 1.33\n",
            "The image given as input is\n"
          ]
        },
        {
          "data": {
            "image/png": "[encoded data removed]",
            "text/plain": [
              "<Figure size 432x288 with 1 Axes>"
            ]
          },
          "metadata": {
            "needs_background": "light"
          },
          "output_type": "display_data"
        },
        {
          "name": "stdout",
          "output_type": "stream",
          "text": [
            "Top predictions of these images are\n",
            "bird : 97.3\n",
            "dog : 1.1\n",
            "horse : 0.68\n",
            "The image given as input is\n"
          ]
        },
        {
          "data": {
            "image/png": "[encoded data removed]",
            "text/plain": [
              "<Figure size 432x288 with 1 Axes>"
            ]
          },
          "metadata": {
            "needs_background": "light"
          },
          "output_type": "display_data"
        },
        {
          "name": "stdout",
          "output_type": "stream",
          "text": [
            "Top predictions of these images are\n",
            "airplane : 25.12\n",
            "frog : 19.31\n",
            "automobile : 14.57\n",
            "The image given as input is\n"
          ]
        },
        {
          "data": {
            "image/png": "[encoded data removed]",
            "text/plain": [
              "<Figure size 432x288 with 1 Axes>"
            ]
          },
          "metadata": {
            "needs_background": "light"
          },
          "output_type": "display_data"
        }
      ],
      "source": [
        "model_1.save(\"NEW_CIFAR10.h5\")\n",
        "predict_class(\"file01.jpg\", model_1)\n",
        "predict_class(\"bird.jpg\", model_1)\n",
        "predict_class(\"bird2.jpg\", model_1)"
      ]
    }
  ],
  "metadata": {
    "colab": {
      "name": "imageClassifier.ipynb",
      "provenance": []
    },
    "kernelspec": {
      "display_name": "Python 3",
      "name": "python3"
    },
    "language_info": {
      "codemirror_mode": {
        "name": "ipython",
        "version": 3
      },
      "file_extension": ".py",
      "mimetype": "text/x-python",
      "name": "python",
      "nbconvert_exporter": "python",
      "pygments_lexer": "ipython3",
      "version": "3.8.10"
    }
  },
  "nbformat": 4,
  "nbformat_minor": 0
}
